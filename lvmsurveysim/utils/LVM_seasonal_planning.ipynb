{
 "cells": [
  {
   "cell_type": "markdown",
   "metadata": {},
   "source": [
    "Determining and plotting observable coverage from APO and LCO\n",
    "-----------------------------------------------------------------------------------------------\n",
    "\n",
    "This example note book calculates the APO and LCO observable coverage for a default set of observing modes using a combination of 0.16m telescopes at both observatories and a 1m at APO.\n",
    "\n",
    "In this example we include 100% observable time for M31, M33 from APO, and the LMC and SMC, the primary LVM high priority targets(HPTs). \n",
    "\n",
    "A year is broken up into a set of days. By default every day is checked. A window of +-X hours around mid-night is simulated, checking the sun-altitude, mooon phase and observability of high priority targets. If HPT is above the maximum air mass, or the moon phase is not condusive to observing a HPT, the amount of time is in the window is added to all observable windows. \n",
    "\n",
    "The result is the sky coverage of a year possible for 15min(default) exposures, for each observatory, for each month, the total for the year, as well as the overlapping coverage of both observatories.\n",
    "\n",
    "Optionally you can show which part of the sky is covered during bright/ HPT-high-airmass time if in a 1m campaign mode as a sperate color.\n",
    "\n",
    "-------------------\n",
    "\n",
    "*By: Eric W. Pellegrini*\n",
    "\n",
    "*License: BSD*\n",
    "\n",
    "-------------------"
   ]
  },
  {
   "cell_type": "markdown",
   "metadata": {},
   "source": [
    "First we import dependancies necessary for finding coordinates and making coordinate transformations"
   ]
  },
  {
   "cell_type": "code",
   "execution_count": 1,
   "metadata": {},
   "outputs": [],
   "source": [
    "import math\n",
    "import astropy.units as u\n",
    "from astropy.coordinates import SkyCoord, EarthLocation, AltAz, get_sun, get_moon\n",
    "from astropy.coordinates import Galactic\n",
    "from astropy.time import Time\n",
    "import numpy as np"
   ]
  },
  {
   "cell_type": "markdown",
   "metadata": {},
   "source": [
    "Next import healpix routines"
   ]
  },
  {
   "cell_type": "code",
   "execution_count": 2,
   "metadata": {},
   "outputs": [],
   "source": [
    "import healpy\n",
    "from astropy_healpix import HEALPix "
   ]
  },
  {
   "cell_type": "markdown",
   "metadata": {},
   "source": [
    "The following routines are the core of the planning program: Import the observation class which contains numberous attributes which define the LVM survey, including the coordinates of M31, M33, the LMC and SMC. The observatory class takes a list of parameters as arguements, but most parameters default if not specified. Primarily set the first day of observations with the \"obs_date\":\"2020-1-1\" and observatory as either \"APO\" or \"LCO\". Geospatial coordinates are contained in the class."
   ]
  },
  {
   "cell_type": "code",
   "execution_count": 3,
   "metadata": {},
   "outputs": [],
   "source": [
    "import lvmsurveysim.utils.obs_class as obs_class\n",
    "import lvmsurveysim.utils.healpix_map_lib as hpml"
   ]
  },
  {
   "cell_type": "markdown",
   "metadata": {},
   "source": [
    "Create an array of each observatory, and each telescope"
   ]
  },
  {
   "cell_type": "code",
   "execution_count": null,
   "metadata": {},
   "outputs": [],
   "source": []
  },
  {
   "cell_type": "markdown",
   "metadata": {},
   "source": [
    "Read in the first file and save the nside value form the header. Use this to create the observation object with the correct number of spaxels."
   ]
  },
  {
   "cell_type": "code",
   "execution_count": 4,
   "metadata": {},
   "outputs": [],
   "source": [
    "from astropy.io import fits\n",
    "hdu_list = fits.open(\"Halpha_fwhm06_1024.fits\")\n",
    "nside = hdu_list[0].header['NSIDE']\n",
    "order = hdu_list[0].header['ORDERING']"
   ]
  },
  {
   "cell_type": "markdown",
   "metadata": {},
   "source": [
    "Initialize the observation class \n",
    "=========================\n",
    "See class for defaults."
   ]
  },
  {
   "cell_type": "code",
   "execution_count": 5,
   "metadata": {},
   "outputs": [
    {
     "name": "stdout",
     "output_type": "stream",
     "text": [
      "Spaxel number not defined or unreadable. Using 1500\n"
     ]
    }
   ],
   "source": [
    "nside = 64\n",
    "obs = obs_class.obs(obs_date='2021-9-1', nside=nside, campaign_mode=False, delta_days=15)"
   ]
  },
  {
   "cell_type": "code",
   "execution_count": 6,
   "metadata": {},
   "outputs": [
    {
     "data": {
      "text/plain": [
       "'N IFUs per pixel area:3.06'"
      ]
     },
     "execution_count": 6,
     "metadata": {},
     "output_type": "execute_result"
    }
   ],
   "source": [
    "(\"N IFUs per pixel area:%0.2f\"%(obs.N_IFU_per_pixel))"
   ]
  },
  {
   "cell_type": "code",
   "execution_count": 7,
   "metadata": {},
   "outputs": [
    {
     "data": {
      "text/plain": [
       "'Time per heal_pix (0.25h obs): 0.764655'"
      ]
     },
     "execution_count": 7,
     "metadata": {},
     "output_type": "execute_result"
    }
   ],
   "source": [
    "(\"Time per heal_pix (0.25h obs): %0.6f\"%(obs.N_IFU_per_pixel*0.25))"
   ]
  },
  {
   "cell_type": "code",
   "execution_count": 8,
   "metadata": {},
   "outputs": [],
   "source": [
    "# observatories = [\"APO\", \"LCO\"]\n",
    "# observatory_telescopes = {\"APO\":[\"0.16m\", \"1.0m\"], \"LCO\":[\"0.16m\"]}\n",
    "# total_time_dict = hpml.init_time_dict(obs, observatories, observatory_telescopes)\n",
    "\n",
    "observatories = [\"LCO\"]\n",
    "observatory_telescopes = {\"LCO\":[\"0.16m\"]}\n",
    "total_time_dict = hpml.init_time_dict(obs, observatories, observatory_telescopes)"
   ]
  },
  {
   "cell_type": "code",
   "execution_count": 9,
   "metadata": {},
   "outputs": [
    {
     "name": "stderr",
     "output_type": "stream",
     "text": [
      "WARNING: Tried to get polar motions for times after IERS data is valid. Defaulting to polar motion from the 50-yr mean for those. This may affect precision at the 10s of arcsec level [astropy.coordinates.builtin_frames.utils]\n"
     ]
    },
    {
     "name": "stdout",
     "output_type": "stream",
     "text": [
      "2021-09-16 00:00:00.000\n",
      "2021-10-01 00:00:00.000\n",
      "2021-10-16 00:00:00.000\n",
      "2021-10-31 00:00:00.000\n",
      "2021-11-15 00:00:00.000\n",
      "2021-11-30 00:00:00.000\n",
      "2021-12-15 00:00:00.000\n",
      "2021-12-30 00:00:00.000\n"
     ]
    },
    {
     "name": "stderr",
     "output_type": "stream",
     "text": [
      "WARNING: ErfaWarning: ERFA function \"taiutc\" yielded 1 of \"dubious year (Note 4)\" [astropy._erfa.core]\n",
      "WARNING: ErfaWarning: ERFA function \"utctai\" yielded 1 of \"dubious year (Note 3)\" [astropy._erfa.core]\n",
      "WARNING: ErfaWarning: ERFA function \"d2dtf\" yielded 1 of \"dubious year (Note 5)\" [astropy._erfa.core]\n",
      "WARNING: ErfaWarning: ERFA function \"taiutc\" yielded 65 of \"dubious year (Note 4)\" [astropy._erfa.core]\n",
      "WARNING: ErfaWarning: ERFA function \"utctai\" yielded 65 of \"dubious year (Note 3)\" [astropy._erfa.core]\n",
      "WARNING: ErfaWarning: ERFA function \"utcut1\" yielded 65 of \"dubious year (Note 3)\" [astropy._erfa.core]\n",
      "WARNING: ErfaWarning: ERFA function \"apio13\" yielded 65 of \"dubious year (Note 2)\" [astropy._erfa.core]\n"
     ]
    },
    {
     "name": "stdout",
     "output_type": "stream",
     "text": [
      "2022-01-14 00:00:00.000\n"
     ]
    },
    {
     "name": "stderr",
     "output_type": "stream",
     "text": [
      "WARNING: ErfaWarning: ERFA function \"apio13\" yielded 1 of \"dubious year (Note 2)\" [astropy._erfa.core]\n"
     ]
    },
    {
     "name": "stdout",
     "output_type": "stream",
     "text": [
      "2022-01-29 00:00:00.000\n",
      "2022-02-13 00:00:00.000\n",
      "2022-02-28 00:00:00.000\n",
      "2022-03-15 00:00:00.000\n",
      "2022-03-30 00:00:00.000\n",
      "2022-04-14 00:00:00.000\n",
      "2022-04-29 00:00:00.000\n",
      "2022-05-14 00:00:00.000\n",
      "2022-05-29 00:00:00.000\n",
      "2022-06-13 00:00:00.000\n",
      "2022-06-28 00:00:00.000\n",
      "2022-07-13 00:00:00.000\n",
      "2022-07-28 00:00:00.000\n",
      "2022-08-12 00:00:00.000\n",
      "2022-08-27 00:00:00.000\n",
      "2022-09-11 00:00:00.000\n",
      "2022-09-26 00:00:00.000\n",
      "2022-10-11 00:00:00.000\n",
      "2022-10-26 00:00:00.000\n",
      "2022-11-10 00:00:00.000\n",
      "2022-11-25 00:00:00.000\n",
      "2022-12-10 00:00:00.000\n",
      "2022-12-25 00:00:00.000\n",
      "2023-01-09 00:00:00.000\n",
      "2023-01-24 00:00:00.000\n",
      "2023-02-08 00:00:00.000\n",
      "2023-02-23 00:00:00.000\n",
      "2023-03-10 00:00:00.000\n",
      "2023-03-25 00:00:00.000\n",
      "2023-04-09 00:00:00.000\n",
      "2023-04-24 00:00:00.000\n",
      "2023-05-09 00:00:00.000\n",
      "2023-05-24 00:00:00.000\n",
      "2023-06-08 00:00:00.000\n",
      "2023-06-23 00:00:00.000\n",
      "2023-07-08 00:00:00.000\n",
      "2023-07-23 00:00:00.000\n",
      "2023-08-07 00:00:00.000\n",
      "2023-08-22 00:00:00.000\n",
      "2023-09-06 00:00:00.000\n",
      "2023-09-21 00:00:00.000\n",
      "2023-10-06 00:00:00.000\n",
      "2023-10-21 00:00:00.000\n",
      "2023-11-05 00:00:00.000\n",
      "2023-11-20 00:00:00.000\n",
      "2023-12-05 00:00:00.000\n",
      "2023-12-20 00:00:00.000\n",
      "2024-01-04 00:00:00.000\n",
      "2024-01-19 00:00:00.000\n",
      "2024-02-03 00:00:00.000\n",
      "2024-02-18 00:00:00.000\n",
      "2024-03-04 00:00:00.000\n",
      "2024-03-19 00:00:00.000\n",
      "2024-04-03 00:00:00.000\n",
      "2024-04-18 00:00:00.000\n",
      "2024-05-03 00:00:00.000\n",
      "2024-05-18 00:00:00.000\n",
      "2024-06-02 00:00:00.000\n",
      "2024-06-17 00:00:00.000\n",
      "2024-07-02 00:00:00.000\n",
      "2024-07-17 00:00:00.000\n",
      "2024-08-01 00:00:00.000\n",
      "2024-08-16 00:00:00.000\n",
      "2024-08-31 00:00:00.000\n",
      "2024-09-15 00:00:00.000\n",
      "2024-09-30 00:00:00.000\n",
      "2024-10-15 00:00:00.000\n",
      "2024-10-30 00:00:00.000\n",
      "2024-11-14 00:00:00.000\n",
      "2024-11-29 00:00:00.000\n",
      "2024-12-14 00:00:00.000\n",
      "2024-12-29 00:00:00.000\n",
      "2025-01-13 00:00:00.000\n",
      "2025-01-28 00:00:00.000\n",
      "2025-02-12 00:00:00.000\n",
      "2025-02-27 00:00:00.000\n",
      "2025-03-14 00:00:00.000\n",
      "2025-03-29 00:00:00.000\n",
      "2025-04-13 00:00:00.000\n",
      "2025-04-28 00:00:00.000\n",
      "2025-05-13 00:00:00.000\n",
      "2025-05-28 00:00:00.000\n",
      "2025-06-12 00:00:00.000\n",
      "2025-06-27 00:00:00.000\n",
      "2025-07-12 00:00:00.000\n",
      "2025-07-27 00:00:00.000\n",
      "2025-08-11 00:00:00.000\n",
      "2025-08-26 00:00:00.000\n"
     ]
    }
   ],
   "source": [
    "hpml.map_the_sky(obs, total_time_dict, observatories=observatories,N_days=4*365)"
   ]
  },
  {
   "cell_type": "markdown",
   "metadata": {},
   "source": [
    "The mapping is finished at the per spaxel level\n",
    "======================================\n",
    "\n",
    "Now, we decide which telescopes we want to map. If campaign_mode=True there wil be a map of MW regions which can be observed during bright, or high-M31/M33 air-masses. "
   ]
  },
  {
   "cell_type": "code",
   "execution_count": 10,
   "metadata": {},
   "outputs": [
    {
     "name": "stdout",
     "output_type": "stream",
     "text": [
      "Plotting combined now.....\n",
      "0.0 180.0 -180.0 180.0\n",
      "The interval between parallels is 30 deg -0.00'.\n",
      "The interval between meridians is 30 deg -0.00'.\n",
      "0.0 180.0 -180.0 180.0\n",
      "The interval between parallels is 30 deg -0.00'.\n",
      "The interval between meridians is 30 deg -0.00'.\n",
      "0.0 180.0 -180.0 180.0\n",
      "The interval between parallels is 30 deg -0.00'.\n",
      "The interval between meridians is 30 deg -0.00'.\n",
      "0.0 180.0 -180.0 180.0\n",
      "The interval between parallels is 30 deg -0.00'.\n",
      "The interval between meridians is 30 deg -0.00'.\n",
      "0.0 180.0 -180.0 180.0\n",
      "The interval between parallels is 30 deg -0.00'.\n",
      "The interval between meridians is 30 deg -0.00'.\n",
      "0.0 180.0 -180.0 180.0\n",
      "The interval between parallels is 30 deg -0.00'.\n",
      "The interval between meridians is 30 deg -0.00'.\n",
      "0.0 180.0 -180.0 180.0\n",
      "The interval between parallels is 30 deg -0.00'.\n",
      "The interval between meridians is 30 deg -0.00'.\n",
      "0.0 180.0 -180.0 180.0\n",
      "The interval between parallels is 30 deg -0.00'.\n",
      "The interval between meridians is 30 deg -0.00'.\n",
      "0.0 180.0 -180.0 180.0\n",
      "The interval between parallels is 30 deg -0.00'.\n",
      "The interval between meridians is 30 deg -0.00'.\n",
      "0.0 180.0 -180.0 180.0\n",
      "The interval between parallels is 30 deg -0.00'.\n",
      "The interval between meridians is 30 deg -0.00'.\n",
      "0.0 180.0 -180.0 180.0\n",
      "The interval between parallels is 30 deg -0.00'.\n",
      "The interval between meridians is 30 deg -0.00'.\n",
      "0.0 180.0 -180.0 180.0\n",
      "The interval between parallels is 30 deg -0.00'.\n",
      "The interval between meridians is 30 deg -0.00'.\n",
      "0.0 180.0 -180.0 180.0\n",
      "The interval between parallels is 30 deg -0.00'.\n",
      "The interval between meridians is 30 deg -0.00'.\n",
      "0.0 180.0 -180.0 180.0\n",
      "The interval between parallels is 30 deg -0.00'.\n",
      "The interval between meridians is 30 deg -0.00'.\n",
      "0.0 180.0 -180.0 180.0\n",
      "The interval between parallels is 30 deg -0.00'.\n",
      "The interval between meridians is 30 deg -0.00'.\n",
      "0.0 180.0 -180.0 180.0\n",
      "The interval between parallels is 30 deg -0.00'.\n",
      "The interval between meridians is 30 deg -0.00'.\n",
      "0.0 180.0 -180.0 180.0\n",
      "The interval between parallels is 30 deg -0.00'.\n",
      "The interval between meridians is 30 deg -0.00'.\n",
      "0.0 180.0 -180.0 180.0\n",
      "The interval between parallels is 30 deg -0.00'.\n",
      "The interval between meridians is 30 deg -0.00'.\n",
      "0.0 180.0 -180.0 180.0\n",
      "The interval between parallels is 30 deg -0.00'.\n",
      "The interval between meridians is 30 deg -0.00'.\n",
      "0.0 180.0 -180.0 180.0\n",
      "The interval between parallels is 30 deg -0.00'.\n",
      "The interval between meridians is 30 deg -0.00'.\n",
      "0.0 180.0 -180.0 180.0\n",
      "The interval between parallels is 30 deg -0.00'.\n",
      "The interval between meridians is 30 deg -0.00'.\n",
      "0.0 180.0 -180.0 180.0\n",
      "The interval between parallels is 30 deg -0.00'.\n",
      "The interval between meridians is 30 deg -0.00'.\n",
      "0.0 180.0 -180.0 180.0\n",
      "The interval between parallels is 30 deg -0.00'.\n",
      "The interval between meridians is 30 deg -0.00'.\n",
      "0.0 180.0 -180.0 180.0\n",
      "The interval between parallels is 30 deg -0.00'.\n",
      "The interval between meridians is 30 deg -0.00'.\n",
      "0.0 180.0 -180.0 180.0\n",
      "The interval between parallels is 30 deg -0.00'.\n",
      "The interval between meridians is 30 deg -0.00'.\n",
      "0.0 180.0 -180.0 180.0\n",
      "The interval between parallels is 30 deg -0.00'.\n",
      "The interval between meridians is 30 deg -0.00'.\n",
      "0.0 180.0 -180.0 180.0\n",
      "The interval between parallels is 30 deg -0.00'.\n",
      "The interval between meridians is 30 deg -0.00'.\n",
      "0.0 180.0 -180.0 180.0\n",
      "The interval between parallels is 30 deg -0.00'.\n",
      "The interval between meridians is 30 deg -0.00'.\n",
      "0.0 180.0 -180.0 180.0\n",
      "The interval between parallels is 30 deg -0.00'.\n",
      "The interval between meridians is 30 deg -0.00'.\n",
      "0.0 180.0 -180.0 180.0\n",
      "The interval between parallels is 30 deg -0.00'.\n",
      "The interval between meridians is 30 deg -0.00'.\n",
      "0.0 180.0 -180.0 180.0\n",
      "The interval between parallels is 30 deg -0.00'.\n",
      "The interval between meridians is 30 deg -0.00'.\n",
      "0.0 180.0 -180.0 180.0\n",
      "The interval between parallels is 30 deg -0.00'.\n",
      "The interval between meridians is 30 deg -0.00'.\n",
      "0.0 180.0 -180.0 180.0\n",
      "The interval between parallels is 30 deg -0.00'.\n",
      "The interval between meridians is 30 deg -0.00'.\n",
      "0.0 180.0 -180.0 180.0\n",
      "The interval between parallels is 30 deg -0.00'.\n",
      "The interval between meridians is 30 deg -0.00'.\n",
      "0.0 180.0 -180.0 180.0\n",
      "The interval between parallels is 30 deg -0.00'.\n",
      "The interval between meridians is 30 deg -0.00'.\n",
      "0.0 180.0 -180.0 180.0\n",
      "The interval between parallels is 30 deg -0.00'.\n",
      "The interval between meridians is 30 deg -0.00'.\n",
      "0.0 180.0 -180.0 180.0\n",
      "The interval between parallels is 30 deg -0.00'.\n",
      "The interval between meridians is 30 deg -0.00'.\n",
      "0.0 180.0 -180.0 180.0\n",
      "The interval between parallels is 30 deg -0.00'.\n",
      "The interval between meridians is 30 deg -0.00'.\n",
      "0.0 180.0 -180.0 180.0\n",
      "The interval between parallels is 30 deg -0.00'.\n",
      "The interval between meridians is 30 deg -0.00'.\n",
      "0.0 180.0 -180.0 180.0\n",
      "The interval between parallels is 30 deg -0.00'.\n",
      "The interval between meridians is 30 deg -0.00'.\n",
      "0.0 180.0 -180.0 180.0\n",
      "The interval between parallels is 30 deg -0.00'.\n",
      "The interval between meridians is 30 deg -0.00'.\n",
      "0.0 180.0 -180.0 180.0\n",
      "The interval between parallels is 30 deg -0.00'.\n",
      "The interval between meridians is 30 deg -0.00'.\n",
      "0.0 180.0 -180.0 180.0\n",
      "The interval between parallels is 30 deg -0.00'.\n",
      "The interval between meridians is 30 deg -0.00'.\n",
      "0.0 180.0 -180.0 180.0\n",
      "The interval between parallels is 30 deg -0.00'.\n",
      "The interval between meridians is 30 deg -0.00'.\n",
      "0.0 180.0 -180.0 180.0\n",
      "The interval between parallels is 30 deg -0.00'.\n",
      "The interval between meridians is 30 deg -0.00'.\n",
      "0.0 180.0 -180.0 180.0\n",
      "The interval between parallels is 30 deg -0.00'.\n",
      "The interval between meridians is 30 deg -0.00'.\n",
      "0.0 180.0 -180.0 180.0\n",
      "The interval between parallels is 30 deg -0.00'.\n",
      "The interval between meridians is 30 deg -0.00'.\n",
      "0.0 180.0 -180.0 180.0\n",
      "The interval between parallels is 30 deg -0.00'.\n",
      "The interval between meridians is 30 deg -0.00'.\n",
      "0.0 180.0 -180.0 180.0\n",
      "The interval between parallels is 30 deg -0.00'.\n",
      "The interval between meridians is 30 deg -0.00'.\n",
      "Finished calculating times\n"
     ]
    }
   ],
   "source": [
    "hpml.plot_the_sky(obs, total_time_dict, observatories, observatory_telescopes, gui=False)\n",
    "print(\"Finished calculating times\")"
   ]
  },
  {
   "cell_type": "code",
   "execution_count": 11,
   "metadata": {},
   "outputs": [
    {
     "name": "stderr",
     "output_type": "stream",
     "text": [
      "WARNING: VerifyWarning: Keyword name 'maxsecZ_M31' is greater than 8 characters or contains characters not allowed by the FITS standard; a HIERARCH card will be created. [astropy.io.fits.card]\n",
      "WARNING: VerifyWarning: Keyword name 'maxsecZ_M33' is greater than 8 characters or contains characters not allowed by the FITS standard; a HIERARCH card will be created. [astropy.io.fits.card]\n",
      "WARNING: VerifyWarning: Keyword name 'maxsecZ_LMC' is greater than 8 characters or contains characters not allowed by the FITS standard; a HIERARCH card will be created. [astropy.io.fits.card]\n",
      "WARNING: VerifyWarning: Keyword name 'maxsecZ_SMC' is greater than 8 characters or contains characters not allowed by the FITS standard; a HIERARCH card will be created. [astropy.io.fits.card]\n",
      "WARNING: VerifyWarning: Keyword name 'maxsecZ_MW' is greater than 8 characters or contains characters not allowed by the FITS standard; a HIERARCH card will be created. [astropy.io.fits.card]\n"
     ]
    }
   ],
   "source": [
    "hpml.save_obs_times_to_file(\"simulated_observable_sky.fits\", obs, total_time_dict, observatories, overwrite=True)"
   ]
  },
  {
   "cell_type": "code",
   "execution_count": 12,
   "metadata": {},
   "outputs": [
    {
     "name": "stdout",
     "output_type": "stream",
     "text": [
      "Finished saving data\n"
     ]
    }
   ],
   "source": [
    "print(\"Finished saving data\")"
   ]
  },
  {
   "cell_type": "code",
   "execution_count": null,
   "metadata": {},
   "outputs": [],
   "source": []
  }
 ],
 "metadata": {
  "kernelspec": {
   "display_name": "Python 3",
   "language": "python",
   "name": "python3"
  },
  "language_info": {
   "codemirror_mode": {
    "name": "ipython",
    "version": 3
   },
   "file_extension": ".py",
   "mimetype": "text/x-python",
   "name": "python",
   "nbconvert_exporter": "python",
   "pygments_lexer": "ipython3",
   "version": "3.6.8"
  }
 },
 "nbformat": 4,
 "nbformat_minor": 1
}